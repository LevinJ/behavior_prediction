{
 "cells": [
  {
   "cell_type": "code",
   "execution_count": null,
   "metadata": {},
   "outputs": [],
   "source": [
    "#TODO: Import libraries and packagaes"
   ]
  },
  {
   "cell_type": "code",
   "execution_count": 8,
   "metadata": {},
   "outputs": [],
   "source": [
    "\n",
    "if __name__ == \"__main__\":\n",
    "    #TODO: Read data using DataReader class\n",
    "    #TODO: load data using DataReader class\n",
    "    #TODO: Apply same reference to data and save the new format using Sensor fusion class\n",
    "    #TODO: predict the future position using Predictor class\n",
    "    #TODO: calculate the Mean square error using evaluator class\n",
    "    #TODO: Plot the results using evaluator class\n",
    "    #TODO: visulize the predicted positions + the ground truth in a subplot with frontal camera frame using evaluator class\n",
    "  "
   ]
  },
  {
   "cell_type": "code",
   "execution_count": null,
   "metadata": {},
   "outputs": [],
   "source": []
  }
 ],
 "metadata": {
  "kernelspec": {
   "display_name": "Python 3",
   "language": "python",
   "name": "python3"
  },
  "language_info": {
   "codemirror_mode": {
    "name": "ipython",
    "version": 3
   },
   "file_extension": ".py",
   "mimetype": "text/x-python",
   "name": "python",
   "nbconvert_exporter": "python",
   "pygments_lexer": "ipython3",
   "version": "3.6.3"
  }
 },
 "nbformat": 4,
 "nbformat_minor": 2
}
